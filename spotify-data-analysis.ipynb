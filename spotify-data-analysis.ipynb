{
 "cells": [
  {
   "cell_type": "code",
   "execution_count": 1,
   "id": "329eff59",
   "metadata": {
    "_cell_guid": "b1076dfc-b9ad-4769-8c92-a6c4dae69d19",
    "_uuid": "8f2839f25d086af736a60e9eeb907d3b93b6e0e5",
    "execution": {
     "iopub.execute_input": "2025-04-30T00:04:28.106434Z",
     "iopub.status.busy": "2025-04-30T00:04:28.106044Z",
     "iopub.status.idle": "2025-04-30T00:04:31.542118Z",
     "shell.execute_reply": "2025-04-30T00:04:31.540747Z"
    },
    "papermill": {
     "duration": 3.44477,
     "end_time": "2025-04-30T00:04:31.543780",
     "exception": false,
     "start_time": "2025-04-30T00:04:28.099010",
     "status": "completed"
    },
    "tags": []
   },
   "outputs": [
    {
     "name": "stdout",
     "output_type": "stream",
     "text": [
      "/kaggle/input/200k-spotify-songs-light-dataset/light_spotify_dataset.json\n",
      "/kaggle/input/200k-spotify-songs-light-dataset/light_spotify_dataset.csv\n"
     ]
    }
   ],
   "source": [
    "# This Python 3 environment comes with many helpful analytics libraries installed\n",
    "# It is defined by the kaggle/python Docker image: https://github.com/kaggle/docker-python\n",
    "# For example, here's several helpful packages to load\n",
    "\n",
    "import numpy as np # linear algebra\n",
    "import pandas as pd # data processing, CSV file I/O (e.g. pd.read_csv)\n",
    "import plotly.express as px\n",
    "import matplotlib.pyplot as plt \n",
    "from matplotlib.ticker import PercentFormatter\n",
    "\n",
    "\n",
    "# Input data files are available in the read-only \"../input/\" directory\n",
    "# For example, running this (by clicking run or pressing Shift+Enter) will list all files under the input directory\n",
    "\n",
    "import os\n",
    "for dirname, _, filenames in os.walk('/kaggle/input'):\n",
    "    for filename in filenames:\n",
    "        print(os.path.join(dirname, filename))\n",
    "\n",
    "# You can write up to 20GB to the current directory (/kaggle/working/) that gets preserved as output when you create a version using \"Save & Run All\" \n",
    "# You can also write temporary files to /kaggle/temp/, but they won't be saved outside of the current session"
   ]
  },
  {
   "cell_type": "code",
   "execution_count": 2,
   "id": "a6139e14",
   "metadata": {
    "execution": {
     "iopub.execute_input": "2025-04-30T00:04:31.553944Z",
     "iopub.status.busy": "2025-04-30T00:04:31.553412Z",
     "iopub.status.idle": "2025-04-30T00:04:36.444568Z",
     "shell.execute_reply": "2025-04-30T00:04:36.443643Z"
    },
    "papermill": {
     "duration": 4.898173,
     "end_time": "2025-04-30T00:04:36.446510",
     "exception": false,
     "start_time": "2025-04-30T00:04:31.548337",
     "status": "completed"
    },
    "tags": []
   },
   "outputs": [],
   "source": [
    "df = pd.read_json('/kaggle/input/200k-spotify-songs-light-dataset/light_spotify_dataset.json', lines=True)\n",
    "df\n",
    "# Create copy to not mess with original integrity \n",
    "df1 = df.copy()\n",
    "pd.reset_option('display.max_rows')\n"
   ]
  },
  {
   "cell_type": "code",
   "execution_count": 3,
   "id": "0d6349a0",
   "metadata": {
    "execution": {
     "iopub.execute_input": "2025-04-30T00:04:36.457018Z",
     "iopub.status.busy": "2025-04-30T00:04:36.456712Z",
     "iopub.status.idle": "2025-04-30T00:04:36.464247Z",
     "shell.execute_reply": "2025-04-30T00:04:36.462988Z"
    },
    "papermill": {
     "duration": 0.014918,
     "end_time": "2025-04-30T00:04:36.465886",
     "exception": false,
     "start_time": "2025-04-30T00:04:36.450968",
     "status": "completed"
    },
    "tags": []
   },
   "outputs": [],
   "source": [
    "# Clean up data columns for queries later on \n",
    "# Lower case all of the columns \n",
    "# Replace spaces and hyphens with underscores\n",
    "df1.columns = df1.columns.str.lower().str.replace(' ', '_').str.replace('-', '_')"
   ]
  },
  {
   "cell_type": "code",
   "execution_count": 4,
   "id": "293f8804",
   "metadata": {
    "execution": {
     "iopub.execute_input": "2025-04-30T00:04:36.475839Z",
     "iopub.status.busy": "2025-04-30T00:04:36.475492Z",
     "iopub.status.idle": "2025-04-30T00:04:36.482845Z",
     "shell.execute_reply": "2025-04-30T00:04:36.481966Z"
    },
    "papermill": {
     "duration": 0.014021,
     "end_time": "2025-04-30T00:04:36.484297",
     "exception": false,
     "start_time": "2025-04-30T00:04:36.470276",
     "status": "completed"
    },
    "tags": []
   },
   "outputs": [
    {
     "data": {
      "text/plain": [
       "['artist',\n",
       " 'song',\n",
       " 'emotion',\n",
       " 'variance',\n",
       " 'genre',\n",
       " 'release_date',\n",
       " 'key',\n",
       " 'tempo',\n",
       " 'loudness',\n",
       " 'explicit',\n",
       " 'popularity',\n",
       " 'energy',\n",
       " 'danceability',\n",
       " 'positiveness',\n",
       " 'speechiness',\n",
       " 'liveness',\n",
       " 'acousticness',\n",
       " 'instrumentalness']"
      ]
     },
     "execution_count": 4,
     "metadata": {},
     "output_type": "execute_result"
    }
   ],
   "source": [
    "list(df1.columns)"
   ]
  },
  {
   "cell_type": "code",
   "execution_count": 5,
   "id": "0a571931",
   "metadata": {
    "execution": {
     "iopub.execute_input": "2025-04-30T00:04:36.494245Z",
     "iopub.status.busy": "2025-04-30T00:04:36.493909Z",
     "iopub.status.idle": "2025-04-30T00:04:36.501371Z",
     "shell.execute_reply": "2025-04-30T00:04:36.500483Z"
    },
    "papermill": {
     "duration": 0.01398,
     "end_time": "2025-04-30T00:04:36.502764",
     "exception": false,
     "start_time": "2025-04-30T00:04:36.488784",
     "status": "completed"
    },
    "tags": []
   },
   "outputs": [
    {
     "data": {
      "text/plain": [
       "artist               object\n",
       "song                 object\n",
       "emotion              object\n",
       "variance            float64\n",
       "genre                object\n",
       "release_date          int64\n",
       "key                  object\n",
       "tempo                 int64\n",
       "loudness            float64\n",
       "explicit             object\n",
       "popularity            int64\n",
       "energy                int64\n",
       "danceability          int64\n",
       "positiveness          int64\n",
       "speechiness           int64\n",
       "liveness              int64\n",
       "acousticness          int64\n",
       "instrumentalness      int64\n",
       "dtype: object"
      ]
     },
     "execution_count": 5,
     "metadata": {},
     "output_type": "execute_result"
    }
   ],
   "source": [
    "df1.dtypes"
   ]
  },
  {
   "cell_type": "code",
   "execution_count": 6,
   "id": "2dabe1ba",
   "metadata": {
    "execution": {
     "iopub.execute_input": "2025-04-30T00:04:36.512991Z",
     "iopub.status.busy": "2025-04-30T00:04:36.512117Z",
     "iopub.status.idle": "2025-04-30T00:04:37.243549Z",
     "shell.execute_reply": "2025-04-30T00:04:37.242598Z"
    },
    "papermill": {
     "duration": 0.738067,
     "end_time": "2025-04-30T00:04:37.245073",
     "exception": false,
     "start_time": "2025-04-30T00:04:36.507006",
     "status": "completed"
    },
    "tags": []
   },
   "outputs": [
    {
     "data": {
      "text/plain": [
       "artist              0\n",
       "song                8\n",
       "emotion             0\n",
       "variance            0\n",
       "Genre               0\n",
       "Release Date        0\n",
       "Key                 0\n",
       "Tempo               0\n",
       "Loudness            0\n",
       "Explicit            0\n",
       "Popularity          0\n",
       "Energy              0\n",
       "Danceability        0\n",
       "Positiveness        0\n",
       "Speechiness         0\n",
       "Liveness            0\n",
       "Acousticness        0\n",
       "Instrumentalness    0\n",
       "dtype: int64"
      ]
     },
     "execution_count": 6,
     "metadata": {},
     "output_type": "execute_result"
    }
   ],
   "source": [
    "# Remove duplicates \n",
    "df.drop_duplicates()\n",
    "# Check for null values \n",
    "df.isnull().sum()"
   ]
  },
  {
   "cell_type": "code",
   "execution_count": 7,
   "id": "c7ef896e",
   "metadata": {
    "execution": {
     "iopub.execute_input": "2025-04-30T00:04:37.255201Z",
     "iopub.status.busy": "2025-04-30T00:04:37.254912Z",
     "iopub.status.idle": "2025-04-30T00:04:37.261523Z",
     "shell.execute_reply": "2025-04-30T00:04:37.260495Z"
    },
    "papermill": {
     "duration": 0.013704,
     "end_time": "2025-04-30T00:04:37.263302",
     "exception": false,
     "start_time": "2025-04-30T00:04:37.249598",
     "status": "completed"
    },
    "tags": []
   },
   "outputs": [
    {
     "data": {
      "text/plain": [
       "(236988, 18)"
      ]
     },
     "execution_count": 7,
     "metadata": {},
     "output_type": "execute_result"
    }
   ],
   "source": [
    "df.shape"
   ]
  },
  {
   "cell_type": "code",
   "execution_count": 8,
   "id": "72c2c391",
   "metadata": {
    "execution": {
     "iopub.execute_input": "2025-04-30T00:04:37.273787Z",
     "iopub.status.busy": "2025-04-30T00:04:37.273404Z",
     "iopub.status.idle": "2025-04-30T00:04:37.359168Z",
     "shell.execute_reply": "2025-04-30T00:04:37.358129Z"
    },
    "papermill": {
     "duration": 0.092802,
     "end_time": "2025-04-30T00:04:37.360853",
     "exception": false,
     "start_time": "2025-04-30T00:04:37.268051",
     "status": "completed"
    },
    "tags": []
   },
   "outputs": [
    {
     "data": {
      "text/plain": [
       "artist\n",
       "Genius English Translations     1604\n",
       "Lil Wayne                        753\n",
       "Juice WRLD                       647\n",
       "Chris Brown                      589\n",
       "Gucci Mane                       522\n",
       "                                ... \n",
       "Marshmello & Bastille              1\n",
       "Marshmello & Demi Lovato           1\n",
       "Marshmello & Halsey                1\n",
       "Marshmello & Imanbek               1\n",
       "  (Alla Pugacheva) & 50 Cent       1\n",
       "Name: count, Length: 30607, dtype: int64"
      ]
     },
     "execution_count": 8,
     "metadata": {},
     "output_type": "execute_result"
    }
   ],
   "source": [
    "df1['artist'].value_counts()"
   ]
  },
  {
   "cell_type": "code",
   "execution_count": 9,
   "id": "afb0c88c",
   "metadata": {
    "execution": {
     "iopub.execute_input": "2025-04-30T00:04:37.371126Z",
     "iopub.status.busy": "2025-04-30T00:04:37.370801Z",
     "iopub.status.idle": "2025-04-30T00:04:37.433466Z",
     "shell.execute_reply": "2025-04-30T00:04:37.432545Z"
    },
    "papermill": {
     "duration": 0.069658,
     "end_time": "2025-04-30T00:04:37.435061",
     "exception": false,
     "start_time": "2025-04-30T00:04:37.365403",
     "status": "completed"
    },
    "tags": []
   },
   "outputs": [
    {
     "data": {
      "text/html": [
       "<div>\n",
       "<style scoped>\n",
       "    .dataframe tbody tr th:only-of-type {\n",
       "        vertical-align: middle;\n",
       "    }\n",
       "\n",
       "    .dataframe tbody tr th {\n",
       "        vertical-align: top;\n",
       "    }\n",
       "\n",
       "    .dataframe thead th {\n",
       "        text-align: right;\n",
       "    }\n",
       "</style>\n",
       "<table border=\"1\" class=\"dataframe\">\n",
       "  <thead>\n",
       "    <tr style=\"text-align: right;\">\n",
       "      <th></th>\n",
       "      <th>artist</th>\n",
       "      <th>song</th>\n",
       "      <th>emotion</th>\n",
       "      <th>variance</th>\n",
       "      <th>genre</th>\n",
       "      <th>release_date</th>\n",
       "      <th>key</th>\n",
       "      <th>tempo</th>\n",
       "      <th>loudness</th>\n",
       "      <th>explicit</th>\n",
       "      <th>popularity</th>\n",
       "      <th>energy</th>\n",
       "      <th>danceability</th>\n",
       "      <th>positiveness</th>\n",
       "      <th>speechiness</th>\n",
       "      <th>liveness</th>\n",
       "      <th>acousticness</th>\n",
       "      <th>instrumentalness</th>\n",
       "    </tr>\n",
       "  </thead>\n",
       "  <tbody>\n",
       "    <tr>\n",
       "      <th>158375</th>\n",
       "      <td>Juice WRLD</td>\n",
       "      <td>All Girls Are the Same</td>\n",
       "      <td>anger</td>\n",
       "      <td>0.833514</td>\n",
       "      <td>rap</td>\n",
       "      <td>2018</td>\n",
       "      <td>C Maj</td>\n",
       "      <td>162</td>\n",
       "      <td>-7.23</td>\n",
       "      <td>Yes</td>\n",
       "      <td>84</td>\n",
       "      <td>53</td>\n",
       "      <td>67</td>\n",
       "      <td>20</td>\n",
       "      <td>31</td>\n",
       "      <td>9</td>\n",
       "      <td>8</td>\n",
       "      <td>0</td>\n",
       "    </tr>\n",
       "    <tr>\n",
       "      <th>158376</th>\n",
       "      <td>Juice WRLD</td>\n",
       "      <td>Wishing Well</td>\n",
       "      <td>sadness</td>\n",
       "      <td>0.833514</td>\n",
       "      <td>rap</td>\n",
       "      <td>2020</td>\n",
       "      <td>A min</td>\n",
       "      <td>150</td>\n",
       "      <td>-6.13</td>\n",
       "      <td>Yes</td>\n",
       "      <td>78</td>\n",
       "      <td>61</td>\n",
       "      <td>65</td>\n",
       "      <td>8</td>\n",
       "      <td>13</td>\n",
       "      <td>27</td>\n",
       "      <td>0</td>\n",
       "      <td>0</td>\n",
       "    </tr>\n",
       "    <tr>\n",
       "      <th>158377</th>\n",
       "      <td>Juice WRLD</td>\n",
       "      <td>Robbery</td>\n",
       "      <td>fear</td>\n",
       "      <td>0.833514</td>\n",
       "      <td>rap</td>\n",
       "      <td>2019</td>\n",
       "      <td>D Maj</td>\n",
       "      <td>80</td>\n",
       "      <td>-5.12</td>\n",
       "      <td>Yes</td>\n",
       "      <td>80</td>\n",
       "      <td>69</td>\n",
       "      <td>62</td>\n",
       "      <td>57</td>\n",
       "      <td>5</td>\n",
       "      <td>15</td>\n",
       "      <td>33</td>\n",
       "      <td>0</td>\n",
       "    </tr>\n",
       "    <tr>\n",
       "      <th>158378</th>\n",
       "      <td>Juice WRLD</td>\n",
       "      <td>Legends</td>\n",
       "      <td>surprise</td>\n",
       "      <td>0.833514</td>\n",
       "      <td>rap</td>\n",
       "      <td>2018</td>\n",
       "      <td>E Maj</td>\n",
       "      <td>142</td>\n",
       "      <td>-5.24</td>\n",
       "      <td>Yes</td>\n",
       "      <td>70</td>\n",
       "      <td>80</td>\n",
       "      <td>59</td>\n",
       "      <td>38</td>\n",
       "      <td>8</td>\n",
       "      <td>14</td>\n",
       "      <td>12</td>\n",
       "      <td>0</td>\n",
       "    </tr>\n",
       "    <tr>\n",
       "      <th>158379</th>\n",
       "      <td>Juice WRLD</td>\n",
       "      <td>Righteous</td>\n",
       "      <td>joy</td>\n",
       "      <td>0.833514</td>\n",
       "      <td>rap</td>\n",
       "      <td>2020</td>\n",
       "      <td>C Maj</td>\n",
       "      <td>143</td>\n",
       "      <td>-7.43</td>\n",
       "      <td>Yes</td>\n",
       "      <td>72</td>\n",
       "      <td>62</td>\n",
       "      <td>71</td>\n",
       "      <td>22</td>\n",
       "      <td>3</td>\n",
       "      <td>13</td>\n",
       "      <td>4</td>\n",
       "      <td>0</td>\n",
       "    </tr>\n",
       "  </tbody>\n",
       "</table>\n",
       "</div>"
      ],
      "text/plain": [
       "            artist                    song   emotion  variance genre  \\\n",
       "158375  Juice WRLD  All Girls Are the Same     anger  0.833514   rap   \n",
       "158376  Juice WRLD            Wishing Well   sadness  0.833514   rap   \n",
       "158377  Juice WRLD                 Robbery      fear  0.833514   rap   \n",
       "158378  Juice WRLD                 Legends  surprise  0.833514   rap   \n",
       "158379  Juice WRLD               Righteous       joy  0.833514   rap   \n",
       "\n",
       "        release_date    key  tempo  loudness explicit  popularity  energy  \\\n",
       "158375          2018  C Maj    162     -7.23      Yes          84      53   \n",
       "158376          2020  A min    150     -6.13      Yes          78      61   \n",
       "158377          2019  D Maj     80     -5.12      Yes          80      69   \n",
       "158378          2018  E Maj    142     -5.24      Yes          70      80   \n",
       "158379          2020  C Maj    143     -7.43      Yes          72      62   \n",
       "\n",
       "        danceability  positiveness  speechiness  liveness  acousticness  \\\n",
       "158375            67            20           31         9             8   \n",
       "158376            65             8           13        27             0   \n",
       "158377            62            57            5        15            33   \n",
       "158378            59            38            8        14            12   \n",
       "158379            71            22            3        13             4   \n",
       "\n",
       "        instrumentalness  \n",
       "158375                 0  \n",
       "158376                 0  \n",
       "158377                 0  \n",
       "158378                 0  \n",
       "158379                 0  "
      ]
     },
     "execution_count": 9,
     "metadata": {},
     "output_type": "execute_result"
    }
   ],
   "source": [
    "# Create a artist filter option so that we can retrieve information for each artist individually if we want to easy filter later on \n",
    "def artist_filter(artist):\n",
    "    artist_df = df1[df1['artist'] == artist]\n",
    "    \n",
    "    return artist_df\n",
    "\n",
    "# Example of Filter\n",
    "artist_filter('Juice WRLD').head()"
   ]
  },
  {
   "cell_type": "code",
   "execution_count": 10,
   "id": "56058efd",
   "metadata": {
    "execution": {
     "iopub.execute_input": "2025-04-30T00:04:37.446811Z",
     "iopub.status.busy": "2025-04-30T00:04:37.445379Z",
     "iopub.status.idle": "2025-04-30T00:04:37.503768Z",
     "shell.execute_reply": "2025-04-30T00:04:37.503033Z"
    },
    "papermill": {
     "duration": 0.06568,
     "end_time": "2025-04-30T00:04:37.505520",
     "exception": false,
     "start_time": "2025-04-30T00:04:37.439840",
     "status": "completed"
    },
    "tags": []
   },
   "outputs": [
    {
     "data": {
      "text/html": [
       "<div>\n",
       "<style scoped>\n",
       "    .dataframe tbody tr th:only-of-type {\n",
       "        vertical-align: middle;\n",
       "    }\n",
       "\n",
       "    .dataframe tbody tr th {\n",
       "        vertical-align: top;\n",
       "    }\n",
       "\n",
       "    .dataframe thead th {\n",
       "        text-align: right;\n",
       "    }\n",
       "</style>\n",
       "<table border=\"1\" class=\"dataframe\">\n",
       "  <thead>\n",
       "    <tr style=\"text-align: right;\">\n",
       "      <th></th>\n",
       "      <th>artist</th>\n",
       "      <th>song</th>\n",
       "      <th>emotion</th>\n",
       "      <th>variance</th>\n",
       "      <th>genre</th>\n",
       "      <th>release_date</th>\n",
       "      <th>key</th>\n",
       "      <th>tempo</th>\n",
       "      <th>loudness</th>\n",
       "      <th>explicit</th>\n",
       "      <th>popularity</th>\n",
       "      <th>energy</th>\n",
       "      <th>danceability</th>\n",
       "      <th>positiveness</th>\n",
       "      <th>speechiness</th>\n",
       "      <th>liveness</th>\n",
       "      <th>acousticness</th>\n",
       "      <th>instrumentalness</th>\n",
       "    </tr>\n",
       "  </thead>\n",
       "  <tbody>\n",
       "    <tr>\n",
       "      <th>3639</th>\n",
       "      <td>David Allan Coe</td>\n",
       "      <td>A Sense Of Humor</td>\n",
       "      <td>joy</td>\n",
       "      <td>0.060847</td>\n",
       "      <td>rap</td>\n",
       "      <td>1983</td>\n",
       "      <td>F Maj</td>\n",
       "      <td>84</td>\n",
       "      <td>-12.37</td>\n",
       "      <td>No</td>\n",
       "      <td>63</td>\n",
       "      <td>43</td>\n",
       "      <td>67</td>\n",
       "      <td>53</td>\n",
       "      <td>5</td>\n",
       "      <td>13</td>\n",
       "      <td>24</td>\n",
       "      <td>0</td>\n",
       "    </tr>\n",
       "    <tr>\n",
       "      <th>3640</th>\n",
       "      <td>David Allan Coe</td>\n",
       "      <td>Ain't It Funny The Way Love Can Do Ya</td>\n",
       "      <td>surprise</td>\n",
       "      <td>0.207500</td>\n",
       "      <td>rap</td>\n",
       "      <td>1981</td>\n",
       "      <td>A Maj</td>\n",
       "      <td>115</td>\n",
       "      <td>-12.82</td>\n",
       "      <td>No</td>\n",
       "      <td>8</td>\n",
       "      <td>23</td>\n",
       "      <td>61</td>\n",
       "      <td>34</td>\n",
       "      <td>3</td>\n",
       "      <td>10</td>\n",
       "      <td>75</td>\n",
       "      <td>0</td>\n",
       "    </tr>\n",
       "    <tr>\n",
       "      <th>3641</th>\n",
       "      <td>David Allan Coe</td>\n",
       "      <td>Another Pretty Country Song</td>\n",
       "      <td>joy</td>\n",
       "      <td>0.122474</td>\n",
       "      <td>rap</td>\n",
       "      <td>1975</td>\n",
       "      <td>D Maj</td>\n",
       "      <td>135</td>\n",
       "      <td>-9.01</td>\n",
       "      <td>No</td>\n",
       "      <td>34</td>\n",
       "      <td>55</td>\n",
       "      <td>62</td>\n",
       "      <td>64</td>\n",
       "      <td>4</td>\n",
       "      <td>31</td>\n",
       "      <td>62</td>\n",
       "      <td>0</td>\n",
       "    </tr>\n",
       "    <tr>\n",
       "      <th>3642</th>\n",
       "      <td>David Allan Coe</td>\n",
       "      <td>As Far As This Feeling Will Take Us</td>\n",
       "      <td>joy</td>\n",
       "      <td>0.226071</td>\n",
       "      <td>rap</td>\n",
       "      <td>1981</td>\n",
       "      <td>C Maj</td>\n",
       "      <td>89</td>\n",
       "      <td>-11.62</td>\n",
       "      <td>No</td>\n",
       "      <td>5</td>\n",
       "      <td>29</td>\n",
       "      <td>62</td>\n",
       "      <td>26</td>\n",
       "      <td>2</td>\n",
       "      <td>22</td>\n",
       "      <td>56</td>\n",
       "      <td>0</td>\n",
       "    </tr>\n",
       "    <tr>\n",
       "      <th>3643</th>\n",
       "      <td>David Allan Coe</td>\n",
       "      <td>Back To Atlanta</td>\n",
       "      <td>joy</td>\n",
       "      <td>-0.016667</td>\n",
       "      <td>rap</td>\n",
       "      <td>1980</td>\n",
       "      <td>F Maj</td>\n",
       "      <td>97</td>\n",
       "      <td>-12.39</td>\n",
       "      <td>No</td>\n",
       "      <td>5</td>\n",
       "      <td>27</td>\n",
       "      <td>53</td>\n",
       "      <td>23</td>\n",
       "      <td>3</td>\n",
       "      <td>13</td>\n",
       "      <td>75</td>\n",
       "      <td>0</td>\n",
       "    </tr>\n",
       "  </tbody>\n",
       "</table>\n",
       "</div>"
      ],
      "text/plain": [
       "               artist                                   song   emotion  \\\n",
       "3639  David Allan Coe                       A Sense Of Humor       joy   \n",
       "3640  David Allan Coe  Ain't It Funny The Way Love Can Do Ya  surprise   \n",
       "3641  David Allan Coe            Another Pretty Country Song       joy   \n",
       "3642  David Allan Coe    As Far As This Feeling Will Take Us       joy   \n",
       "3643  David Allan Coe                        Back To Atlanta       joy   \n",
       "\n",
       "      variance genre  release_date    key  tempo  loudness explicit  \\\n",
       "3639  0.060847   rap          1983  F Maj     84    -12.37       No   \n",
       "3640  0.207500   rap          1981  A Maj    115    -12.82       No   \n",
       "3641  0.122474   rap          1975  D Maj    135     -9.01       No   \n",
       "3642  0.226071   rap          1981  C Maj     89    -11.62       No   \n",
       "3643 -0.016667   rap          1980  F Maj     97    -12.39       No   \n",
       "\n",
       "      popularity  energy  danceability  positiveness  speechiness  liveness  \\\n",
       "3639          63      43            67            53            5        13   \n",
       "3640           8      23            61            34            3        10   \n",
       "3641          34      55            62            64            4        31   \n",
       "3642           5      29            62            26            2        22   \n",
       "3643           5      27            53            23            3        13   \n",
       "\n",
       "      acousticness  instrumentalness  \n",
       "3639            24                 0  \n",
       "3640            75                 0  \n",
       "3641            62                 0  \n",
       "3642            56                 0  \n",
       "3643            75                 0  "
      ]
     },
     "execution_count": 10,
     "metadata": {},
     "output_type": "execute_result"
    }
   ],
   "source": [
    "# Create a genre filter option so that we can retrieve information for each artist individually if we want to easy filter later on \n",
    "def genre_filter(genre):\n",
    "    genre_df = df1[df1['genre'] == genre]\n",
    "    \n",
    "    return genre_df\n",
    "\n",
    "# Example of filter\n",
    "genre_filter('rap').head()"
   ]
  },
  {
   "cell_type": "code",
   "execution_count": 11,
   "id": "d4f4a21d",
   "metadata": {
    "execution": {
     "iopub.execute_input": "2025-04-30T00:04:37.517229Z",
     "iopub.status.busy": "2025-04-30T00:04:37.516723Z",
     "iopub.status.idle": "2025-04-30T00:04:38.317539Z",
     "shell.execute_reply": "2025-04-30T00:04:38.316624Z"
    },
    "papermill": {
     "duration": 0.80845,
     "end_time": "2025-04-30T00:04:38.319191",
     "exception": false,
     "start_time": "2025-04-30T00:04:37.510741",
     "status": "completed"
    },
    "tags": []
   },
   "outputs": [
    {
     "data": {
      "text/html": [
       "<div>\n",
       "<style scoped>\n",
       "    .dataframe tbody tr th:only-of-type {\n",
       "        vertical-align: middle;\n",
       "    }\n",
       "\n",
       "    .dataframe tbody tr th {\n",
       "        vertical-align: top;\n",
       "    }\n",
       "\n",
       "    .dataframe thead th {\n",
       "        text-align: right;\n",
       "    }\n",
       "</style>\n",
       "<table border=\"1\" class=\"dataframe\">\n",
       "  <thead>\n",
       "    <tr style=\"text-align: right;\">\n",
       "      <th></th>\n",
       "      <th>artist</th>\n",
       "      <th>songs</th>\n",
       "      <th>num_of_songs</th>\n",
       "    </tr>\n",
       "  </thead>\n",
       "  <tbody>\n",
       "    <tr>\n",
       "      <th>0</th>\n",
       "      <td>Genius English Translations</td>\n",
       "      <td>[Luis Fonsi  Daddy Yankee - Despacito Remix ft...</td>\n",
       "      <td>1604</td>\n",
       "    </tr>\n",
       "    <tr>\n",
       "      <th>1</th>\n",
       "      <td>Lil Wayne</td>\n",
       "      <td>[1St Key, A Dedication, A Millie Sold (Remix),...</td>\n",
       "      <td>753</td>\n",
       "    </tr>\n",
       "    <tr>\n",
       "      <th>2</th>\n",
       "      <td>Juice WRLD</td>\n",
       "      <td>[All Girls Are the Same, Wishing Well, Robbery...</td>\n",
       "      <td>647</td>\n",
       "    </tr>\n",
       "    <tr>\n",
       "      <th>3</th>\n",
       "      <td>Chris Brown</td>\n",
       "      <td>[100 Bottles, ABC's, Ain't No Way (You Won't L...</td>\n",
       "      <td>589</td>\n",
       "    </tr>\n",
       "    <tr>\n",
       "      <th>4</th>\n",
       "      <td>Gucci Mane</td>\n",
       "      <td>[Birds Of A Feather, Decapitated, Deuces Lyric...</td>\n",
       "      <td>522</td>\n",
       "    </tr>\n",
       "    <tr>\n",
       "      <th>5</th>\n",
       "      <td>Drake</td>\n",
       "      <td>[6 Man, Believe It Or Not, Best I Ever Had, Br...</td>\n",
       "      <td>513</td>\n",
       "    </tr>\n",
       "    <tr>\n",
       "      <th>6</th>\n",
       "      <td>Kanye West</td>\n",
       "      <td>[Anyway, Bad News, Barry Bonds, Be-Cleve In Yo...</td>\n",
       "      <td>471</td>\n",
       "    </tr>\n",
       "    <tr>\n",
       "      <th>7</th>\n",
       "      <td>BONES</td>\n",
       "      <td>[Dirt, HDMI, RestInPeace, CtrlAltDelete, Sodiu...</td>\n",
       "      <td>456</td>\n",
       "    </tr>\n",
       "    <tr>\n",
       "      <th>8</th>\n",
       "      <td>Chief Keef</td>\n",
       "      <td>[I Dont Like, Faneto, Hate Bein Sober, Earned ...</td>\n",
       "      <td>453</td>\n",
       "    </tr>\n",
       "    <tr>\n",
       "      <th>9</th>\n",
       "      <td>Eminem</td>\n",
       "      <td>[25 to Life, 3 A.M., 3 Verses, Above The Law, ...</td>\n",
       "      <td>423</td>\n",
       "    </tr>\n",
       "    <tr>\n",
       "      <th>10</th>\n",
       "      <td>The Beatles</td>\n",
       "      <td>[A Shot Of Rhythm And Blues, Across The Univer...</td>\n",
       "      <td>388</td>\n",
       "    </tr>\n",
       "    <tr>\n",
       "      <th>11</th>\n",
       "      <td>YoungBoy Never Broke Again</td>\n",
       "      <td>[Genie, House Arrest Tingz, Solar Eclipse, Unt...</td>\n",
       "      <td>387</td>\n",
       "    </tr>\n",
       "    <tr>\n",
       "      <th>12</th>\n",
       "      <td>Lana Del Rey</td>\n",
       "      <td>[Afraid, Aviation, Because Of You, Brite Lites...</td>\n",
       "      <td>381</td>\n",
       "    </tr>\n",
       "    <tr>\n",
       "      <th>13</th>\n",
       "      <td>Wiz Khalifa</td>\n",
       "      <td>[Be Easy, Black And Yellow, Bout Me, BTS, Chew...</td>\n",
       "      <td>378</td>\n",
       "    </tr>\n",
       "    <tr>\n",
       "      <th>14</th>\n",
       "      <td>Bob Dylan</td>\n",
       "      <td>[4Th Time Around, A Satisfied Mind, Ain't Gonn...</td>\n",
       "      <td>368</td>\n",
       "    </tr>\n",
       "    <tr>\n",
       "      <th>15</th>\n",
       "      <td>Green Day</td>\n",
       "      <td>[2000 Light Years Away, All The Time, Amanda, ...</td>\n",
       "      <td>364</td>\n",
       "    </tr>\n",
       "    <tr>\n",
       "      <th>16</th>\n",
       "      <td>David Bowie</td>\n",
       "      <td>[1984, A Foggy Day, African Night Flight, All ...</td>\n",
       "      <td>362</td>\n",
       "    </tr>\n",
       "    <tr>\n",
       "      <th>17</th>\n",
       "      <td>Tech N9ne</td>\n",
       "      <td>[Worldwide Choppers, Speedom Worldwide Chopper...</td>\n",
       "      <td>352</td>\n",
       "    </tr>\n",
       "    <tr>\n",
       "      <th>18</th>\n",
       "      <td>Mariah Carey</td>\n",
       "      <td>[4 Real, 4 Real (Feat. Da Brat), Anytime You N...</td>\n",
       "      <td>339</td>\n",
       "    </tr>\n",
       "    <tr>\n",
       "      <th>19</th>\n",
       "      <td>Red Hot Chili Peppers</td>\n",
       "      <td>[21St Century, Apache Rose Peacock, Behind The...</td>\n",
       "      <td>336</td>\n",
       "    </tr>\n",
       "    <tr>\n",
       "      <th>20</th>\n",
       "      <td>Young Thug</td>\n",
       "      <td>[Best Friend, The London, Check, Power, With T...</td>\n",
       "      <td>328</td>\n",
       "    </tr>\n",
       "    <tr>\n",
       "      <th>21</th>\n",
       "      <td>Future</td>\n",
       "      <td>[Life Is Good, March Madness, Comin Out Strong...</td>\n",
       "      <td>325</td>\n",
       "    </tr>\n",
       "    <tr>\n",
       "      <th>22</th>\n",
       "      <td>Justin Bieber</td>\n",
       "      <td>[A Very Bieber Christmas, All Bad, All I Want ...</td>\n",
       "      <td>323</td>\n",
       "    </tr>\n",
       "    <tr>\n",
       "      <th>23</th>\n",
       "      <td>2Pac</td>\n",
       "      <td>[Hit Em Up, Changes, Keep Ya Head Up, Hail Mar...</td>\n",
       "      <td>319</td>\n",
       "    </tr>\n",
       "    <tr>\n",
       "      <th>24</th>\n",
       "      <td>Taylor Swift</td>\n",
       "      <td>[Cold As You, Crazier, Everything Has Changed,...</td>\n",
       "      <td>318</td>\n",
       "    </tr>\n",
       "    <tr>\n",
       "      <th>25</th>\n",
       "      <td>Marilyn Manson</td>\n",
       "      <td>[Aint, Arma-goddamn-motherfuckin-geddon, Aston...</td>\n",
       "      <td>318</td>\n",
       "    </tr>\n",
       "  </tbody>\n",
       "</table>\n",
       "</div>"
      ],
      "text/plain": [
       "                         artist  \\\n",
       "0   Genius English Translations   \n",
       "1                     Lil Wayne   \n",
       "2                    Juice WRLD   \n",
       "3                   Chris Brown   \n",
       "4                    Gucci Mane   \n",
       "5                         Drake   \n",
       "6                    Kanye West   \n",
       "7                         BONES   \n",
       "8                    Chief Keef   \n",
       "9                        Eminem   \n",
       "10                  The Beatles   \n",
       "11   YoungBoy Never Broke Again   \n",
       "12                 Lana Del Rey   \n",
       "13                  Wiz Khalifa   \n",
       "14                    Bob Dylan   \n",
       "15                    Green Day   \n",
       "16                  David Bowie   \n",
       "17                    Tech N9ne   \n",
       "18                 Mariah Carey   \n",
       "19        Red Hot Chili Peppers   \n",
       "20                   Young Thug   \n",
       "21                       Future   \n",
       "22                Justin Bieber   \n",
       "23                         2Pac   \n",
       "24                 Taylor Swift   \n",
       "25               Marilyn Manson   \n",
       "\n",
       "                                                songs  num_of_songs  \n",
       "0   [Luis Fonsi  Daddy Yankee - Despacito Remix ft...          1604  \n",
       "1   [1St Key, A Dedication, A Millie Sold (Remix),...           753  \n",
       "2   [All Girls Are the Same, Wishing Well, Robbery...           647  \n",
       "3   [100 Bottles, ABC's, Ain't No Way (You Won't L...           589  \n",
       "4   [Birds Of A Feather, Decapitated, Deuces Lyric...           522  \n",
       "5   [6 Man, Believe It Or Not, Best I Ever Had, Br...           513  \n",
       "6   [Anyway, Bad News, Barry Bonds, Be-Cleve In Yo...           471  \n",
       "7   [Dirt, HDMI, RestInPeace, CtrlAltDelete, Sodiu...           456  \n",
       "8   [I Dont Like, Faneto, Hate Bein Sober, Earned ...           453  \n",
       "9   [25 to Life, 3 A.M., 3 Verses, Above The Law, ...           423  \n",
       "10  [A Shot Of Rhythm And Blues, Across The Univer...           388  \n",
       "11  [Genie, House Arrest Tingz, Solar Eclipse, Unt...           387  \n",
       "12  [Afraid, Aviation, Because Of You, Brite Lites...           381  \n",
       "13  [Be Easy, Black And Yellow, Bout Me, BTS, Chew...           378  \n",
       "14  [4Th Time Around, A Satisfied Mind, Ain't Gonn...           368  \n",
       "15  [2000 Light Years Away, All The Time, Amanda, ...           364  \n",
       "16  [1984, A Foggy Day, African Night Flight, All ...           362  \n",
       "17  [Worldwide Choppers, Speedom Worldwide Chopper...           352  \n",
       "18  [4 Real, 4 Real (Feat. Da Brat), Anytime You N...           339  \n",
       "19  [21St Century, Apache Rose Peacock, Behind The...           336  \n",
       "20  [Best Friend, The London, Check, Power, With T...           328  \n",
       "21  [Life Is Good, March Madness, Comin Out Strong...           325  \n",
       "22  [A Very Bieber Christmas, All Bad, All I Want ...           323  \n",
       "23  [Hit Em Up, Changes, Keep Ya Head Up, Hail Mar...           319  \n",
       "24  [Cold As You, Crazier, Everything Has Changed,...           318  \n",
       "25  [Aint, Arma-goddamn-motherfuckin-geddon, Aston...           318  "
      ]
     },
     "execution_count": 11,
     "metadata": {},
     "output_type": "execute_result"
    }
   ],
   "source": [
    "# Store all of names of the songs from the artists into a lists \n",
    "# Create the dictionary\n",
    "artist_songs_dict = df.groupby('artist')['song'].apply(list).to_dict()\n",
    "\n",
    "# Convert it to a DataFrame\n",
    "artist_songs_df = pd.DataFrame(list(artist_songs_dict.items()), columns=['artist', 'songs'])\n",
    "\n",
    "# Create new column that counts the length of the list \n",
    "artist_songs_df['num_of_songs'] = artist_songs_df['songs'].apply(lambda x: len(x) if isinstance(x, list) else 'NA')\n",
    "# Sort the num_of_songs in descending order\n",
    "artist_songs_df = artist_songs_df.sort_values('num_of_songs', ascending=False).reset_index()\n",
    "\n",
    "# Inspect the data for the artists with the highest number of songs \n",
    "artist_songs_df.loc[0:25, ['artist', 'songs', 'num_of_songs']]"
   ]
  },
  {
   "cell_type": "code",
   "execution_count": 12,
   "id": "720f35aa",
   "metadata": {
    "execution": {
     "iopub.execute_input": "2025-04-30T00:04:38.331872Z",
     "iopub.status.busy": "2025-04-30T00:04:38.330936Z",
     "iopub.status.idle": "2025-04-30T00:04:38.597129Z",
     "shell.execute_reply": "2025-04-30T00:04:38.595875Z"
    },
    "papermill": {
     "duration": 0.274283,
     "end_time": "2025-04-30T00:04:38.599020",
     "exception": false,
     "start_time": "2025-04-30T00:04:38.324737",
     "status": "completed"
    },
    "tags": []
   },
   "outputs": [],
   "source": [
    "# Common Genre Filters\n",
    "rap_filter = genre_filter('rap')\n",
    "country_filter = genre_filter('country')\n",
    "christian_filter = genre_filter('christian')\n",
    "jazz_filter = genre_filter('jazz')\n",
    "folk_filter = genre_filter('folk')\n",
    "electronic_filter = genre_filter('christian')\n",
    "soul_filter = genre_filter('soul')\n"
   ]
  },
  {
   "cell_type": "code",
   "execution_count": 13,
   "id": "5e2da2e0",
   "metadata": {
    "execution": {
     "iopub.execute_input": "2025-04-30T00:04:38.610636Z",
     "iopub.status.busy": "2025-04-30T00:04:38.610330Z",
     "iopub.status.idle": "2025-04-30T00:04:38.663313Z",
     "shell.execute_reply": "2025-04-30T00:04:38.662406Z"
    },
    "papermill": {
     "duration": 0.060822,
     "end_time": "2025-04-30T00:04:38.665092",
     "exception": false,
     "start_time": "2025-04-30T00:04:38.604270",
     "status": "completed"
    },
    "tags": []
   },
   "outputs": [
    {
     "data": {
      "text/plain": [
       "2562"
      ]
     },
     "execution_count": 13,
     "metadata": {},
     "output_type": "execute_result"
    }
   ],
   "source": [
    "# How many number of unique genre labels are there? \n",
    "df1['genre'].nunique() # Prints 2,562"
   ]
  },
  {
   "cell_type": "code",
   "execution_count": 14,
   "id": "7a0c2352",
   "metadata": {
    "execution": {
     "iopub.execute_input": "2025-04-30T00:04:38.680970Z",
     "iopub.status.busy": "2025-04-30T00:04:38.680676Z",
     "iopub.status.idle": "2025-04-30T00:04:38.777972Z",
     "shell.execute_reply": "2025-04-30T00:04:38.776897Z"
    },
    "papermill": {
     "duration": 0.105798,
     "end_time": "2025-04-30T00:04:38.779424",
     "exception": false,
     "start_time": "2025-04-30T00:04:38.673626",
     "status": "completed"
    },
    "tags": []
   },
   "outputs": [
    {
     "data": {
      "text/html": [
       "<div>\n",
       "<style scoped>\n",
       "    .dataframe tbody tr th:only-of-type {\n",
       "        vertical-align: middle;\n",
       "    }\n",
       "\n",
       "    .dataframe tbody tr th {\n",
       "        vertical-align: top;\n",
       "    }\n",
       "\n",
       "    .dataframe thead th {\n",
       "        text-align: right;\n",
       "    }\n",
       "</style>\n",
       "<table border=\"1\" class=\"dataframe\">\n",
       "  <thead>\n",
       "    <tr style=\"text-align: right;\">\n",
       "      <th></th>\n",
       "      <th>genre</th>\n",
       "      <th>genre_popularity_score</th>\n",
       "      <th>most_common_emotion_for_genre</th>\n",
       "      <th>most_common_genre_key</th>\n",
       "      <th>avg_loudness</th>\n",
       "      <th>most_popular_artist</th>\n",
       "    </tr>\n",
       "  </thead>\n",
       "  <tbody>\n",
       "    <tr>\n",
       "      <th>0</th>\n",
       "      <td>rap</td>\n",
       "      <td>1400103</td>\n",
       "      <td>anger</td>\n",
       "      <td>C# Maj</td>\n",
       "      <td>-7.03758</td>\n",
       "      <td>Travis Scott</td>\n",
       "    </tr>\n",
       "  </tbody>\n",
       "</table>\n",
       "</div>"
      ],
      "text/plain": [
       "  genre  genre_popularity_score most_common_emotion_for_genre  \\\n",
       "0   rap                 1400103                         anger   \n",
       "\n",
       "  most_common_genre_key  avg_loudness most_popular_artist  \n",
       "0                C# Maj      -7.03758        Travis Scott  "
      ]
     },
     "execution_count": 14,
     "metadata": {},
     "output_type": "execute_result"
    }
   ],
   "source": [
    "def genre_statistics(df):\n",
    "    # Sum popularity per genre\n",
    "    genre_group = df.groupby('genre').popularity.sum().reset_index()\n",
    "    \n",
    "    # Find the most common emotion per genre\n",
    "    common_emotions = df.groupby('genre')['emotion'].agg(lambda x: x.mode()[0]).reset_index()\n",
    "    \n",
    "    # Find the most common key per genre\n",
    "    common_key = df.groupby('genre')['key'].agg(lambda x: x.mode()[0]).reset_index()\n",
    "    \n",
    "    # Find the average loudness per genre\n",
    "    avg_loudness = df.groupby('genre')['loudness'].mean().reset_index()\n",
    "\n",
    "    # Find the most popular artist per genre\n",
    "    most_popular_artist = df.loc[df.groupby('genre')['popularity'].idxmax()][['genre', 'artist']]\n",
    "    \n",
    "    # Merge all the dataframes together\n",
    "    genre_group = genre_group.merge(common_emotions, on='genre')\n",
    "    genre_group = genre_group.merge(common_key, on='genre')\n",
    "    genre_group = genre_group.merge(avg_loudness, on='genre')\n",
    "    genre_group = genre_group.merge(most_popular_artist, on='genre')\n",
    "\n",
    "    # Rename Columns (use inplace or axis=1 for renaming)\n",
    "    genre_group = genre_group.rename(columns={\n",
    "        'popularity': 'genre_popularity_score', \n",
    "        'emotion': 'most_common_emotion_for_genre', \n",
    "        'key': 'most_common_genre_key', \n",
    "        'loudness': 'avg_loudness', \n",
    "        'artist': 'most_popular_artist'\n",
    "    })\n",
    "    \n",
    "    return genre_group\n",
    "\n",
    "genre_statistics(rap_filter)"
   ]
  },
  {
   "cell_type": "code",
   "execution_count": 15,
   "id": "be5afbcb",
   "metadata": {
    "execution": {
     "iopub.execute_input": "2025-04-30T00:04:38.791950Z",
     "iopub.status.busy": "2025-04-30T00:04:38.791596Z",
     "iopub.status.idle": "2025-04-30T00:04:40.186690Z",
     "shell.execute_reply": "2025-04-30T00:04:40.185486Z"
    },
    "papermill": {
     "duration": 1.403141,
     "end_time": "2025-04-30T00:04:40.188432",
     "exception": false,
     "start_time": "2025-04-30T00:04:38.785291",
     "status": "completed"
    },
    "tags": []
   },
   "outputs": [
    {
     "data": {
      "text/html": [
       "<iframe\n",
       "    scrolling=\"no\"\n",
       "    width=\"100%\"\n",
       "    height=\"545px\"\n",
       "    src=\"iframe_figures/figure_15.html\"\n",
       "    frameborder=\"0\"\n",
       "    allowfullscreen\n",
       "></iframe>\n"
      ]
     },
     "metadata": {},
     "output_type": "display_data"
    }
   ],
   "source": [
    "songs_per_year = df1.groupby('release_date')['song'].nunique().reset_index()\n",
    "songs_per_year.rename(columns={'song': 'unique_song_count'}, inplace=True)\n",
    "\n",
    "fig = px.bar(\n",
    "    songs_per_year,\n",
    "    x='release_date',\n",
    "    y='unique_song_count',\n",
    "    template='presentation',\n",
    "    title='Unique Songs Released per Date'\n",
    ")\n",
    "\n",
    "\n",
    "fig.show(renderer='iframe_connected')"
   ]
  },
  {
   "cell_type": "code",
   "execution_count": 16,
   "id": "e8d79219",
   "metadata": {
    "execution": {
     "iopub.execute_input": "2025-04-30T00:04:40.201092Z",
     "iopub.status.busy": "2025-04-30T00:04:40.200769Z",
     "iopub.status.idle": "2025-04-30T00:04:41.558815Z",
     "shell.execute_reply": "2025-04-30T00:04:41.557695Z"
    },
    "papermill": {
     "duration": 1.366421,
     "end_time": "2025-04-30T00:04:41.560706",
     "exception": false,
     "start_time": "2025-04-30T00:04:40.194285",
     "status": "completed"
    },
    "tags": []
   },
   "outputs": [
    {
     "data": {
      "text/html": [
       "<iframe\n",
       "    scrolling=\"no\"\n",
       "    width=\"100%\"\n",
       "    height=\"545px\"\n",
       "    src=\"iframe_figures/figure_16.html\"\n",
       "    frameborder=\"0\"\n",
       "    allowfullscreen\n",
       "></iframe>\n"
      ]
     },
     "metadata": {},
     "output_type": "display_data"
    }
   ],
   "source": [
    "fig = px.density_heatmap(\n",
    "    songs_per_year,\n",
    "    x='release_date',\n",
    "    y='unique_song_count',\n",
    "    color_continuous_scale='Viridis',\n",
    "    title='Heatmap of Genres and Years of Songs'\n",
    ")\n",
    "\n",
    "\n",
    "fig.show(renderer='iframe_connected')"
   ]
  },
  {
   "cell_type": "markdown",
   "id": "7ebfa716",
   "metadata": {
    "papermill": {
     "duration": 0.010098,
     "end_time": "2025-04-30T00:04:41.581381",
     "exception": false,
     "start_time": "2025-04-30T00:04:41.571283",
     "status": "completed"
    },
    "tags": []
   },
   "source": [
    "1. Blue bars (left y-axis): The number of unique songs released on each release date. Taller bars mean more unique songs were released that year.\n",
    "\n",
    "2. Red line (right y-axis): The cumulative percentage of all unique songs accounted for as you move across the dates. It shows how quickly the total number of songs accumulates.\n",
    "\n",
    "3. Interpretation:\n",
    "\n",
    "   - Right side: Years with the most unique songs — they contribute heavily to the total.\n",
    "\n",
    "    - Cumulative line: Remains steady at first (because a for many years, songs weren't being recorded), then increases sharply (later years contribute a cumulative majority songs).\n",
    "\n",
    "    - Pareto insight: Often, a small number of years account for a large percentage of total songs — this is the 80/20 principle in action (e.g., 20% of dates might hold 80% of the songs)."
   ]
  },
  {
   "cell_type": "code",
   "execution_count": 17,
   "id": "cfdd7438",
   "metadata": {
    "execution": {
     "iopub.execute_input": "2025-04-30T00:04:41.596767Z",
     "iopub.status.busy": "2025-04-30T00:04:41.596401Z",
     "iopub.status.idle": "2025-04-30T00:04:42.152566Z",
     "shell.execute_reply": "2025-04-30T00:04:42.151699Z"
    },
    "papermill": {
     "duration": 0.566268,
     "end_time": "2025-04-30T00:04:42.154984",
     "exception": false,
     "start_time": "2025-04-30T00:04:41.588716",
     "status": "completed"
    },
    "tags": []
   },
   "outputs": [
    {
     "data": {
      "image/png": "[encoded data removed]",
      "text/plain": [
       "<Figure size 1000x600 with 2 Axes>"
      ]
     },
     "metadata": {},
     "output_type": "display_data"
    }
   ],
   "source": [
    "\n",
    "# Sort by count descending for Pareto chart\n",
    "songs_per_year = songs_per_year.sort_values(by='unique_song_count', ascending=False).reset_index(drop=True)\n",
    "\n",
    "# Add cumulative percentage\n",
    "songs_per_year['cumperc'] = songs_per_year['unique_song_count'].cumsum() / songs_per_year['unique_song_count'].sum() * 100\n",
    "\n",
    "# Set aesthetics\n",
    "color1 = 'blue'\n",
    "color2 = 'red'\n",
    "line_size = 4\n",
    "\n",
    "# Create bar plot\n",
    "fig, ax = plt.subplots(figsize=(10, 6))\n",
    "ax.bar(songs_per_year['release_date'], songs_per_year['unique_song_count'], color=color1)\n",
    "\n",
    "# Add cumulative line\n",
    "ax2 = ax.twinx()\n",
    "ax2.plot(songs_per_year['release_date'], songs_per_year['cumperc'], color=color2, marker=\"D\", ms=line_size)\n",
    "ax2.yaxis.set_major_formatter(PercentFormatter())\n",
    "\n",
    "# Aesthetic tuning\n",
    "ax.tick_params(axis='y', colors=color1)\n",
    "ax2.tick_params(axis='y', colors=color2)\n",
    "plt.xticks(rotation=45)\n",
    "plt.title('Pareto Chart of Unique Songs per Release Date')\n",
    "\n",
    "plt.tight_layout()\n",
    "plt.show()\n"
   ]
  },
  {
   "cell_type": "code",
   "execution_count": 18,
   "id": "9c4cee1e",
   "metadata": {
    "execution": {
     "iopub.execute_input": "2025-04-30T00:04:42.169591Z",
     "iopub.status.busy": "2025-04-30T00:04:42.169269Z",
     "iopub.status.idle": "2025-04-30T00:04:42.345581Z",
     "shell.execute_reply": "2025-04-30T00:04:42.344582Z"
    },
    "papermill": {
     "duration": 0.185406,
     "end_time": "2025-04-30T00:04:42.347267",
     "exception": false,
     "start_time": "2025-04-30T00:04:42.161861",
     "status": "completed"
    },
    "tags": []
   },
   "outputs": [
    {
     "data": {
      "text/html": [
       "<iframe\n",
       "    scrolling=\"no\"\n",
       "    width=\"100%\"\n",
       "    height=\"545px\"\n",
       "    src=\"iframe_figures/figure_18.html\"\n",
       "    frameborder=\"0\"\n",
       "    allowfullscreen\n",
       "></iframe>\n"
      ]
     },
     "metadata": {},
     "output_type": "display_data"
    }
   ],
   "source": [
    "# Set artist and genre names for title\n",
    "genre_name = 'christian'\n",
    "\n",
    "\n",
    "# Remember the genre and artist filter\n",
    "genre = genre_filter(genre_name) # e.g., adjust genre name to your preference\n",
    "\n",
    "# Chart Title\n",
    "chart_title = 'Genre - Song/Emotion Visual'\n",
    "\n",
    "# Further filtering for faster query\n",
    "# Make sure to adjust DataFrame being filtered to the new variable name (ie. artist or genre)\n",
    "filter_down = genre[['genre', 'song', 'emotion']].reset_index()\n",
    "emotions_in_songs = filter_down.groupby(['genre', 'song']).emotion.nunique()\n",
    "\n",
    "fig = px.histogram(\n",
    "    filter_down, \n",
    "    title=chart_title,\n",
    "    x=\"genre\", \n",
    "    y=\"song\", \n",
    "    color=\"genre\", \n",
    "    pattern_shape=\"emotion\", \n",
    "    histfunc='count', \n",
    "    template='presentation',\n",
    "    color_discrete_sequence=px.colors.qualitative.Set3,\n",
    "    labels={\n",
    "        \"genre\": \"Genre\",\n",
    "        \"count\": \"Number of Songs\"\n",
    "    }\n",
    ")\n",
    "\n",
    "\n",
    "fig.show(renderer='iframe_connected')"
   ]
  },
  {
   "cell_type": "code",
   "execution_count": 19,
   "id": "7cd27571",
   "metadata": {
    "execution": {
     "iopub.execute_input": "2025-04-30T00:04:42.361597Z",
     "iopub.status.busy": "2025-04-30T00:04:42.361279Z",
     "iopub.status.idle": "2025-04-30T00:04:42.454514Z",
     "shell.execute_reply": "2025-04-30T00:04:42.453514Z"
    },
    "papermill": {
     "duration": 0.102469,
     "end_time": "2025-04-30T00:04:42.456289",
     "exception": false,
     "start_time": "2025-04-30T00:04:42.353820",
     "status": "completed"
    },
    "tags": []
   },
   "outputs": [
    {
     "data": {
      "text/html": [
       "<iframe\n",
       "    scrolling=\"no\"\n",
       "    width=\"100%\"\n",
       "    height=\"545px\"\n",
       "    src=\"iframe_figures/figure_19.html\"\n",
       "    frameborder=\"0\"\n",
       "    allowfullscreen\n",
       "></iframe>\n"
      ]
     },
     "metadata": {},
     "output_type": "display_data"
    }
   ],
   "source": [
    "# Set artist names for title\n",
    "artist_name = 'Lil Wayne' # e.g., adjust artist name to your preference\n",
    "\n",
    "\n",
    "# Remember the genre and artist filter\n",
    "artist = artist_filter(artist_name) \n",
    "\n",
    "# Chart Title\n",
    "chart_title = 'Artist - Song/Emotion Visual'\n",
    "\n",
    "# Further filtering for faster query\n",
    "# Make sure to adjust DataFrame being filtered to the new variable name (ie. artist or genre)\n",
    "filter_down = artist[['genre', 'song', 'emotion']].reset_index()\n",
    "emotions_in_songs = filter_down.groupby(['genre', 'song']).emotion.nunique()\n",
    "\n",
    "fig = px.histogram(\n",
    "    filter_down, \n",
    "    title=chart_title,\n",
    "    x=\"genre\", \n",
    "    y=\"song\", \n",
    "    color=\"genre\", \n",
    "    pattern_shape=\"emotion\", \n",
    "    histfunc='count', \n",
    "    template='presentation',\n",
    "    color_discrete_sequence=px.colors.qualitative.Set3,\n",
    "    labels={\n",
    "        \"artist\": \"Artist\",\n",
    "        \"count\": \"Number of Songs\"\n",
    "    }\n",
    ")\n",
    "\n",
    "fig.show(renderer='iframe_connected')"
   ]
  }
 ],
 "metadata": {
  "kaggle": {
   "accelerator": "none",
   "dataSources": [
    {
     "datasetId": 7166530,
     "sourceId": 11440336,
     "sourceType": "datasetVersion"
    }
   ],
   "dockerImageVersionId": 31012,
   "isGpuEnabled": false,
   "isInternetEnabled": false,
   "language": "python",
   "sourceType": "notebook"
  },
  "kernelspec": {
   "display_name": "Python 3",
   "language": "python",
   "name": "python3"
  },
  "language_info": {
   "codemirror_mode": {
    "name": "ipython",
    "version": 3
   },
   "file_extension": ".py",
   "mimetype": "text/x-python",
   "name": "python",
   "nbconvert_exporter": "python",
   "pygments_lexer": "ipython3",
   "version": "3.11.11"
  },
  "papermill": {
   "default_parameters": {},
   "duration": 20.657226,
   "end_time": "2025-04-30T00:04:43.386211",
   "environment_variables": {},
   "exception": null,
   "input_path": "__notebook__.ipynb",
   "output_path": "__notebook__.ipynb",
   "parameters": {},
   "start_time": "2025-04-30T00:04:22.728985",
   "version": "2.6.0"
  }
 },
 "nbformat": 4,
 "nbformat_minor": 5
}
